{
 "metadata": {
  "language_info": {
   "codemirror_mode": {
    "name": "ipython",
    "version": 3
   },
   "file_extension": ".py",
   "mimetype": "text/x-python",
   "name": "python",
   "nbconvert_exporter": "python",
   "pygments_lexer": "ipython3",
   "version": "3.8.5-final"
  },
  "orig_nbformat": 2,
  "kernelspec": {
   "name": "python3",
   "display_name": "Python 3",
   "language": "python"
  }
 },
 "nbformat": 4,
 "nbformat_minor": 2,
 "cells": [
  {
   "source": [
    "Validate a Sudoku solution"
   ],
   "cell_type": "markdown",
   "metadata": {}
  },
  {
   "cell_type": "code",
   "execution_count": 138,
   "metadata": {},
   "outputs": [],
   "source": [
    "# check that the row has the correct number of characters from 1 to 9\n",
    "def valid_row(row):\n",
    "    if not row.isdigit():\n",
    "        print(\"Invalid file format - row must only contain digits 1 to 9\")\n",
    "        return False\n",
    "    if row.count(\"0\") > 0:\n",
    "        print(\"Invalid file format - row must only contain digits 1 to 9\")\n",
    "        return False\n",
    "    if len(row) != 9:\n",
    "        print(\"Invalid file format - row must have 9 digits\") \n",
    "        return False\n",
    "    return True"
   ]
  },
  {
   "cell_type": "code",
   "execution_count": 139,
   "metadata": {},
   "outputs": [],
   "source": [
    "def enter_all_rows():\n",
    "    # read and validate lines from user-specified file\n",
    "    file_name = input('Please enter file name: ')\n",
    "    stream = open(file_name, mode='r')\n",
    "    row = stream.readline().strip()\n",
    "    board = []\n",
    "    while row != '':\n",
    "        if not valid_row(row):\n",
    "            return None\n",
    "        board.append(row)\n",
    "        row = stream.readline().strip()\n",
    "    stream.close()\n",
    "\n",
    "    # check the board contains 9 valid rows\n",
    "    if len(board) < 9:\n",
    "        print('Invalid file format - the file does not contain 9 rows of data')\n",
    "        return None\n",
    "\n",
    "    return board"
   ]
  },
  {
   "cell_type": "code",
   "execution_count": 140,
   "metadata": {},
   "outputs": [],
   "source": [
    "# check that that the row doesn't contain any duplicate entries\n",
    "def row_unique( row ):\n",
    "    if ''.join(sorted(row)) == '123456789':\n",
    "        return True\n",
    "    return False"
   ]
  },
  {
   "cell_type": "code",
   "execution_count": 141,
   "metadata": {},
   "outputs": [],
   "source": [
    "# check that the board contains valid rows\n",
    "def valid_rows(board):\n",
    "    for row in board:\n",
    "        if not row_unique(row):\n",
    "            print('A row contains duplicate values')\n",
    "            return False\n",
    "    return True"
   ]
  },
  {
   "cell_type": "code",
   "execution_count": 142,
   "metadata": {},
   "outputs": [],
   "source": [
    "# check that the board contains valid columns\n",
    "def valid_cols(board):\n",
    "    for i in range(9):\n",
    "        col = []\n",
    "        for j in range(9):\n",
    "            col.append(board[j][i])\n",
    "        if not row_unique(col):\n",
    "            print('A column contains duplicate values')\n",
    "            return False\n",
    "    return True"
   ]
  },
  {
   "cell_type": "code",
   "execution_count": 143,
   "metadata": {},
   "outputs": [],
   "source": [
    "# check that the board contains valid tiles (where a tile is given by dividing the board into 3x3 squares)\n",
    "def valid_tiles(board):\n",
    "    start_row = 0\n",
    "    while start_row < 9:\n",
    "        start_col = 0\n",
    "        while start_col < 9:\n",
    "            tile = []\n",
    "            for row in range(3):\n",
    "                for col in range(3):\n",
    "                    tile.append(board[start_row + row][start_col + col])\n",
    "            if not row_unique(tile):\n",
    "                print('A tile contains duplicate values')\n",
    "                return False\n",
    "            start_col += 3\n",
    "        start_row += 3\n",
    "    return True"
   ]
  },
  {
   "cell_type": "code",
   "execution_count": 144,
   "metadata": {},
   "outputs": [],
   "source": [
    "# validate the board by checking that rows, columns and tiles are all valid\n",
    "def is_valid(board):\n",
    "    if board == None:\n",
    "        return False\n",
    "    if not valid_rows(board):\n",
    "        return False\n",
    "    if not valid_cols(board):\n",
    "        return False\n",
    "    return valid_tiles(board)"
   ]
  },
  {
   "cell_type": "code",
   "execution_count": 147,
   "metadata": {},
   "outputs": [
    {
     "output_type": "stream",
     "name": "stdout",
     "text": [
      "Invalid file format - row must only contain digits 1 to 9\nThe solution is invalid\n"
     ]
    }
   ],
   "source": [
    "# read a solution from a file\n",
    "board = enter_all_rows()\n",
    "\n",
    "# validate the solution\n",
    "if is_valid(board):\n",
    "    print(\"The solution is valid\")\n",
    "else:\n",
    "    print(\"The solution is invalid\")"
   ]
  },
  {
   "cell_type": "code",
   "execution_count": null,
   "metadata": {},
   "outputs": [],
   "source": []
  }
 ]
}