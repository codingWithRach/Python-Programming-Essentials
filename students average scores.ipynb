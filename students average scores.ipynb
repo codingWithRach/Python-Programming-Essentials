{
 "metadata": {
  "language_info": {
   "codemirror_mode": {
    "name": "ipython",
    "version": 3
   },
   "file_extension": ".py",
   "mimetype": "text/x-python",
   "name": "python",
   "nbconvert_exporter": "python",
   "pygments_lexer": "ipython3",
   "version": "3.8.5-final"
  },
  "orig_nbformat": 2,
  "kernelspec": {
   "name": "python3",
   "display_name": "Python 3",
   "language": "python"
  }
 },
 "nbformat": 4,
 "nbformat_minor": 2,
 "cells": [
  {
   "source": [
    "Evaluate students' average scores"
   ],
   "cell_type": "markdown",
   "metadata": {}
  },
  {
   "cell_type": "code",
   "execution_count": null,
   "metadata": {},
   "outputs": [],
   "source": [
    "school_class = {}\n",
    "while True:\n",
    "    name = input(\"Enter the student's name (or type exit to stop): \")\n",
    "    if name == 'exit':\n",
    "        break\n",
    "    score = float(input(\"Enter the student's score (0-10): \"))\n",
    "    if name in school_class:\n",
    "        school_class[name] += (score,)\t# extend tuple\n",
    "    else:\n",
    "        school_class[name] = (score,)\t# define tuple"
   ]
  },
  {
   "cell_type": "code",
   "execution_count": null,
   "metadata": {},
   "outputs": [],
   "source": [
    "for name in sorted(school_class.keys()):\n",
    "    adding = 0\n",
    "    counter = 0\n",
    "    for score in school_class[name]:\n",
    "        adding += score\n",
    "        counter += 1\n",
    "    print(name, \":\", adding / counter)"
   ]
  },
  {
   "cell_type": "code",
   "execution_count": null,
   "metadata": {},
   "outputs": [],
   "source": []
  }
 ]
}