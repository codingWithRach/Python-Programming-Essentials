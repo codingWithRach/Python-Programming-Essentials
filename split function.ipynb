{
 "metadata": {
  "language_info": {
   "codemirror_mode": {
    "name": "ipython",
    "version": 3
   },
   "file_extension": ".py",
   "mimetype": "text/x-python",
   "name": "python",
   "nbconvert_exporter": "python",
   "pygments_lexer": "ipython3",
   "version": "3.8.5-final"
  },
  "orig_nbformat": 2,
  "kernelspec": {
   "name": "python3",
   "display_name": "Python 3",
   "language": "python"
  }
 },
 "nbformat": 4,
 "nbformat_minor": 2,
 "cells": [
  {
   "source": [
    "Writing a split() function"
   ],
   "cell_type": "markdown",
   "metadata": {}
  },
  {
   "cell_type": "code",
   "execution_count": 1,
   "metadata": {},
   "outputs": [],
   "source": [
    "def get_pos_whitespace(strng):\n",
    "    pos_whitespace = min(strng.find(\" \"), strng.find(\"\\n\"))\n",
    "    if pos_whitespace == -1:\n",
    "        pos_whitespace = max(strng.find(\" \"), strng.find(\"\\n\"))\n",
    "    return pos_whitespace"
   ]
  },
  {
   "cell_type": "code",
   "execution_count": 11,
   "metadata": {},
   "outputs": [],
   "source": [
    "def mysplit(strng):\n",
    "    my_list = []\n",
    "    my_string = strng.strip()\n",
    "    pos_whitespace = get_pos_whitespace(my_string)\n",
    "    while pos_whitespace != -1:\n",
    "        my_list.append(my_string[:pos_whitespace])\n",
    "        my_string = my_string.lstrip(my_string[:pos_whitespace]).strip()\n",
    "        pos_whitespace = get_pos_whitespace(my_string)\n",
    "    if len(my_string) > 0:\n",
    "        my_list.append(my_string)\n",
    "    return my_list"
   ]
  },
  {
   "cell_type": "code",
   "execution_count": 12,
   "metadata": {},
   "outputs": [
    {
     "output_type": "execute_result",
     "data": {
      "text/plain": [
       "['The', 'quick', 'brown', 'fox', 'jumps', 'over', 'the', 'lazy', 'dog']"
      ]
     },
     "metadata": {},
     "execution_count": 12
    }
   ],
   "source": [
    "mysplit('The quick brown fox\\njumps    over the lazy dog')"
   ]
  },
  {
   "cell_type": "code",
   "execution_count": null,
   "metadata": {},
   "outputs": [],
   "source": []
  }
 ]
}