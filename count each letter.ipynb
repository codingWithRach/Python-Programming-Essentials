{
 "metadata": {
  "language_info": {
   "codemirror_mode": {
    "name": "ipython",
    "version": 3
   },
   "file_extension": ".py",
   "mimetype": "text/x-python",
   "name": "python",
   "nbconvert_exporter": "python",
   "pygments_lexer": "ipython3",
   "version": "3.8.5-final"
  },
  "orig_nbformat": 2,
  "kernelspec": {
   "name": "python3",
   "display_name": "Python 3",
   "language": "python"
  }
 },
 "nbformat": 4,
 "nbformat_minor": 2,
 "cells": [
  {
   "source": [
    "Count instances of each alpha character in a text file"
   ],
   "cell_type": "markdown",
   "metadata": {}
  },
  {
   "cell_type": "code",
   "execution_count": 13,
   "metadata": {},
   "outputs": [],
   "source": [
    "# initialise variables\n",
    "alphabet = \"abcdefghijklmnopqrstuvwxyz\"\n",
    "char_count = { char : 0 for char in alphabet }"
   ]
  },
  {
   "cell_type": "code",
   "execution_count": 14,
   "metadata": {},
   "outputs": [],
   "source": [
    "# prompt user for filename\n",
    "from os import strerror\n",
    "file_name = input (\"Enter name of text file (including extension): \")\n",
    "try:\n",
    "    file = open(file_name, 'rt')\n",
    "except IOError as e:\n",
    "    print(\"Cannot open file: \", strerror(e.errno))\n",
    "    exit(e.errno)"
   ]
  },
  {
   "cell_type": "code",
   "execution_count": 15,
   "metadata": {},
   "outputs": [],
   "source": [
    "# read text from the file, 100 characters at a time, counting the number of each\n",
    "try:\n",
    "    chars = file.read(100)\n",
    "    while chars != '':\n",
    "        for char in chars.lower():\n",
    "            if char.isalpha():\n",
    "                char_count[char] += 1\n",
    "        chars = file.read(100)\n",
    "except:\n",
    "    file.close()\n",
    "    print(\"I/O error occurred: \", strerr(e.errno))\n",
    "    exit(e.errno)\n",
    "file.close()"
   ]
  },
  {
   "cell_type": "code",
   "execution_count": 16,
   "metadata": {},
   "outputs": [
    {
     "output_type": "stream",
     "name": "stdout",
     "text": [
      "a -> 1\nb -> 1\nc -> 1\nd -> 1\ne -> 3\nf -> 1\ng -> 1\nh -> 2\ni -> 1\nj -> 1\nk -> 1\nl -> 1\nm -> 1\nn -> 1\no -> 4\np -> 1\nq -> 1\nr -> 2\ns -> 1\nt -> 2\nu -> 2\nv -> 1\nw -> 1\nx -> 1\ny -> 1\nz -> 1\n"
     ]
    }
   ],
   "source": [
    "# output non-zero counts in order of letter\n",
    "for char, num in char_count.items():\n",
    "    if num != 0:\n",
    "        print(char, \"->\", num)"
   ]
  },
  {
   "cell_type": "code",
   "execution_count": 17,
   "metadata": {},
   "outputs": [
    {
     "output_type": "stream",
     "name": "stdout",
     "text": [
      "o -> 4\ne -> 3\nu -> 2\nt -> 2\nr -> 2\nh -> 2\nz -> 1\ny -> 1\nx -> 1\nw -> 1\nv -> 1\ns -> 1\nq -> 1\np -> 1\nn -> 1\nm -> 1\nl -> 1\nk -> 1\nj -> 1\ni -> 1\ng -> 1\nf -> 1\nd -> 1\nc -> 1\nb -> 1\na -> 1\n"
     ]
    }
   ],
   "source": [
    "# now output non-zero counts in reverse order of count\n",
    "char_list = sorted((( count, char ) for char, count in char_count.items() if count != 0), reverse = True)\n",
    "for (count, char) in char_list:\n",
    "    print(char, \"->\", count)"
   ]
  },
  {
   "cell_type": "code",
   "execution_count": 18,
   "metadata": {},
   "outputs": [
    {
     "output_type": "stream",
     "name": "stdout",
     "text": [
      "4 -> o\n3 -> e\n2 -> u\n2 -> t\n2 -> r\n2 -> h\n1 -> z\n1 -> y\n1 -> x\n1 -> w\n1 -> v\n1 -> s\n1 -> q\n1 -> p\n1 -> n\n1 -> m\n1 -> l\n1 -> k\n1 -> j\n1 -> i\n1 -> g\n1 -> f\n1 -> d\n1 -> c\n1 -> b\n1 -> a\n"
     ]
    }
   ],
   "source": [
    "# now output non-zero counts in reverse order of count using lambda\n",
    "har_list = [(char, count) for char, count in sorted( char_count.items(), key=lambda x: x[1], reverse=True) if count != 0]\n",
    "for (char, count) in char_list:\n",
    "    print(char, \"->\", count)"
   ]
  }
 ]
}