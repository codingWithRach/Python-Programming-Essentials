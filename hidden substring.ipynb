{
 "metadata": {
  "language_info": {
   "codemirror_mode": {
    "name": "ipython",
    "version": 3
   },
   "file_extension": ".py",
   "mimetype": "text/x-python",
   "name": "python",
   "nbconvert_exporter": "python",
   "pygments_lexer": "ipython3",
   "version": "3.8.5-final"
  },
  "orig_nbformat": 2,
  "kernelspec": {
   "name": "python3",
   "display_name": "Python 3",
   "language": "python"
  }
 },
 "nbformat": 4,
 "nbformat_minor": 2,
 "cells": [
  {
   "source": [
    "Hidden Substring"
   ],
   "cell_type": "markdown",
   "metadata": {}
  },
  {
   "cell_type": "code",
   "execution_count": 5,
   "metadata": {},
   "outputs": [],
   "source": [
    "def substring_exists( string, substring ):\n",
    "    pos = 0\n",
    "    for char in substring:\n",
    "        pos = string.find( char, pos )\n",
    "        if pos == -1:\n",
    "            return False\n",
    "    return True"
   ]
  },
  {
   "cell_type": "code",
   "execution_count": 10,
   "metadata": {},
   "outputs": [
    {
     "output_type": "stream",
     "name": "stdout",
     "text": [
      "The string does not contain the characters from the substring in the correct order\n"
     ]
    }
   ],
   "source": [
    "string = input(\"Please enter the string: \").upper()\n",
    "substring = input(\"Please enter the substring: \").upper()\n",
    "if substring_exists(string, substring):\n",
    "    print(\"The string contains the characters from the substring in the correct order\")\n",
    "else:\n",
    "    print(\"The string does not contain the characters from the substring in the correct order\")"
   ]
  },
  {
   "cell_type": "code",
   "execution_count": null,
   "metadata": {},
   "outputs": [],
   "source": []
  }
 ]
}