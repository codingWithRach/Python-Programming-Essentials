{
 "metadata": {
  "language_info": {
   "codemirror_mode": {
    "name": "ipython",
    "version": 3
   },
   "file_extension": ".py",
   "mimetype": "text/x-python",
   "name": "python",
   "nbconvert_exporter": "python",
   "pygments_lexer": "ipython3",
   "version": "3.8.5-final"
  },
  "orig_nbformat": 2,
  "kernelspec": {
   "name": "python3",
   "display_name": "Python 3",
   "language": "python"
  }
 },
 "nbformat": 4,
 "nbformat_minor": 2,
 "cells": [
  {
   "source": [
    "Thirteen LED Display of numeric digits"
   ],
   "cell_type": "markdown",
   "metadata": {}
  },
  {
   "cell_type": "code",
   "execution_count": 1,
   "metadata": {},
   "outputs": [],
   "source": [
    "OFF = ' '\n",
    "ON = '#'"
   ]
  },
  {
   "cell_type": "code",
   "execution_count": 2,
   "metadata": {},
   "outputs": [],
   "source": [
    "# set up the digits\n",
    "def definedigits():\n",
    "    digit_zero = [[ON, ON, ON], [ON, OFF, ON], [ON, OFF, ON], [ON, OFF, ON], [ON, ON, ON]]\n",
    "    digit_one = [[OFF, OFF, ON], [OFF, OFF, ON], [OFF, OFF, ON], [OFF, OFF, ON], [OFF, OFF, ON]]\n",
    "    digit_two = [[ON, ON, ON], [OFF, OFF, ON], [ON, ON, ON], [ON, OFF, OFF], [ON, ON, ON]]\n",
    "    digit_three = [[ON, ON, ON], [OFF, OFF, ON], [ON, ON, ON], [OFF, OFF, ON], [ON, ON, ON]]\n",
    "    digit_four = [[ON, OFF, ON], [ON, OFF, ON], [ON, ON, ON], [OFF, OFF, ON], [OFF, OFF, ON]]\n",
    "    digit_five = [[ON, ON, ON], [ON, OFF, OFF], [ON, ON, ON], [OFF, OFF, ON], [ON, ON, ON]]\n",
    "    digit_six = [[ON, ON, ON], [ON, OFF, OFF], [ON, ON, ON], [ON, OFF, ON], [ON, ON, ON]]\n",
    "    digit_seven = [[ON, ON, ON], [OFF, OFF, ON], [OFF, OFF, ON], [OFF, OFF, ON], [OFF, OFF, ON]]\n",
    "    digit_eight = [[ON, ON, ON], [ON, OFF, ON], [ON, ON, ON], [ON, OFF, ON], [ON, ON, ON]]\n",
    "    digit_nine = [[ON, ON, ON], [ON, OFF, ON], [ON, ON, ON], [OFF, OFF, ON], [ON, ON, ON]]\n",
    "    return [digit_zero, digit_one, digit_two, digit_three, digit_four, digit_five, digit_six, digit_seven, digit_eight, digit_nine]"
   ]
  },
  {
   "cell_type": "code",
   "execution_count": 3,
   "metadata": {},
   "outputs": [],
   "source": [
    "def print_number(user_num):\n",
    "    # set up the digits\n",
    "    digits = definedigits()\n",
    "    \n",
    "    # each digit has five rows\n",
    "    for row in range(5):\n",
    "        # for each row, need to process each of the digits in the number\n",
    "        for digit_num in range(len(user_num)):\n",
    "            # each digit has three columns\n",
    "            for col in range(3):\n",
    "                digit = int(user_num[digit_num])\n",
    "                print(digits[digit][row][col],end=\"\")\n",
    "            # print a space after each digit\n",
    "            print(OFF, end=\"\")\n",
    "        # print a new line before processing the next row\n",
    "        print()"
   ]
  },
  {
   "cell_type": "code",
   "execution_count": 4,
   "metadata": {},
   "outputs": [
    {
     "output_type": "stream",
     "name": "stdout",
     "text": [
      "# # ### ### \n# #   # #   \n### ### ### \n  # #   # # \n  # ### ### \n"
     ]
    }
   ],
   "source": [
    "# ask user to enter an integer\n",
    "user_num = -1\n",
    "while user_num < 0:\n",
    "    try:\n",
    "        user_num = int(input(\"Please enter a positive integer: \"))\n",
    "    except:\n",
    "        print(\"Entry is invalid\")\n",
    "\n",
    "# convert the number to a list and then print\n",
    "user_num = list(str(user_num))\n",
    "print_number(user_num)"
   ]
  },
  {
   "cell_type": "code",
   "execution_count": null,
   "metadata": {},
   "outputs": [],
   "source": []
  }
 ]
}