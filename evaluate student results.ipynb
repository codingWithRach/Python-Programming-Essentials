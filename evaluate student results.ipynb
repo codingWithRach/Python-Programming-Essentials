{
 "metadata": {
  "language_info": {
   "codemirror_mode": {
    "name": "ipython",
    "version": 3
   },
   "file_extension": ".py",
   "mimetype": "text/x-python",
   "name": "python",
   "nbconvert_exporter": "python",
   "pygments_lexer": "ipython3",
   "version": "3.8.5-final"
  },
  "orig_nbformat": 2,
  "kernelspec": {
   "name": "python3",
   "display_name": "Python 3",
   "language": "python"
  }
 },
 "nbformat": 4,
 "nbformat_minor": 2,
 "cells": [
  {
   "source": [
    "Evaluate student results"
   ],
   "cell_type": "markdown",
   "metadata": {}
  },
  {
   "cell_type": "code",
   "execution_count": 18,
   "metadata": {},
   "outputs": [],
   "source": [
    "from os import strerror"
   ]
  },
  {
   "source": [
    "Class definitions for user-defined error handling"
   ],
   "cell_type": "markdown",
   "metadata": {}
  },
  {
   "cell_type": "code",
   "execution_count": 19,
   "metadata": {},
   "outputs": [],
   "source": [
    "class StudentsDataException(Exception):\n",
    "    def __init__(self, message):\n",
    "        Exception.__init__(self, message)\n",
    "\n",
    "# raised when a bad line is detected in the file\n",
    "class BadLineError(StudentsDataException):\n",
    "    def __init__(self, message=\"File has invalid format\"):\n",
    "        StudentsDataException.__init__(self, message)\n",
    "\n",
    "# raised when the source file exists but is empty\n",
    "class FileEmptyError(StudentsDataException):\n",
    "    def __init__(self, message=\"Empty file\"):\n",
    "        StudentsDataException.__init__(self, message)"
   ]
  },
  {
   "cell_type": "code",
   "execution_count": 20,
   "metadata": {},
   "outputs": [],
   "source": [
    "# prompt user for file name and open file\n",
    "file_name = input(\"Please enter file name: \")\n",
    "try:\n",
    "    file = open(file_name, 'rt')\n",
    "except IOError as e:\n",
    "    print(\"Cannot open file: \", strerror(e.errno))\n",
    "    exit(e.errno)"
   ]
  },
  {
   "cell_type": "code",
   "execution_count": 21,
   "metadata": {},
   "outputs": [],
   "source": [
    "# read lines from the file\n",
    "lines = []\n",
    "try:\n",
    "    line = file.readline()\n",
    "    if len(line) == 0:\n",
    "        raise FileEmptyError(file_name + \" is an empty file\")\n",
    "    while line != '':\n",
    "        lines.append(line.split())\n",
    "        line = file.readline()\n",
    "    file.close()\n",
    "except FileEmptyError as fe:\n",
    "    print(fe)\n",
    "except IOError as e:\n",
    "    print(\"I/O error occurred: \", strerr(e.errno))\n",
    "    exit(e.errno)\n",
    "finally:\n",
    "    file.close()"
   ]
  },
  {
   "cell_type": "code",
   "execution_count": 22,
   "metadata": {},
   "outputs": [],
   "source": [
    "try:\n",
    "    results = sorted([ (forename + ' ' + surname, float(points)) for ( forename, surname, points ) in lines])\n",
    "except:\n",
    "    try:\n",
    "        raise BadLineError( file_name + ' has an invalid format' )\n",
    "    except BadLineError as bl:\n",
    "        print(bl)"
   ]
  },
  {
   "cell_type": "code",
   "execution_count": 23,
   "metadata": {},
   "outputs": [
    {
     "output_type": "stream",
     "name": "stdout",
     "text": [
      "Andrew Cox      1.5\nAnna Boleyn     15.0\nJohn Smith      7.0\n"
     ]
    }
   ],
   "source": [
    "# total and output the student results\n",
    "students = {}\n",
    "for name, points in results:\n",
    "    if name in students:\n",
    "        students[name] += points\n",
    "    else:\n",
    "        students[name] = points\n",
    "\n",
    "for ( name, points ) in students.items():\n",
    "    print( name.ljust(len(max(students.keys(), key=len)) + 4), points )"
   ]
  }
 ]
}