{
 "metadata": {
  "language_info": {
   "codemirror_mode": {
    "name": "ipython",
    "version": 3
   },
   "file_extension": ".py",
   "mimetype": "text/x-python",
   "name": "python",
   "nbconvert_exporter": "python",
   "pygments_lexer": "ipython3",
   "version": "3.8.5-final"
  },
  "orig_nbformat": 2,
  "kernelspec": {
   "name": "python3",
   "display_name": "Python 3",
   "language": "python"
  }
 },
 "nbformat": 4,
 "nbformat_minor": 2,
 "cells": [
  {
   "source": [
    "Caesar Cipher"
   ],
   "cell_type": "markdown",
   "metadata": {}
  },
  {
   "cell_type": "code",
   "execution_count": 8,
   "metadata": {},
   "outputs": [],
   "source": [
    "def encrypt(cipher):\n",
    "    encrypted = ''\n",
    "    for char in cipher:\n",
    "        code = ord(char)\n",
    "        if char.isalpha():\n",
    "            code += shift_num\n",
    "            if code > ord('Z') and char.isupper():\n",
    "                code = ord('A') + (code - ord('Z') - 1) \n",
    "            elif code > ord('z') and char.islower():\n",
    "                code = ord('a') + (code - ord('z') - 1) \n",
    "        encrypted += chr(code)\n",
    "    return encrypted"
   ]
  },
  {
   "cell_type": "code",
   "execution_count": 12,
   "metadata": {},
   "outputs": [
    {
     "output_type": "stream",
     "name": "stdout",
     "text": [
      "The encryption of A zebedee is C bgdgfgg\n"
     ]
    }
   ],
   "source": [
    "cipher = input('Enter your cryptogram: ')\n",
    "shift_num = 0\n",
    "while shift_num < 1 or shift_num > 25:\n",
    "    try:\n",
    "        shift_num = int(input(\"Enter your shift value: \"))\n",
    "    except:\n",
    "        print(\"Invalid shift value\")\n",
    "print('The encryption of', cipher, 'is', encrypt(cipher))"
   ]
  },
  {
   "cell_type": "code",
   "execution_count": null,
   "metadata": {},
   "outputs": [],
   "source": []
  }
 ]
}