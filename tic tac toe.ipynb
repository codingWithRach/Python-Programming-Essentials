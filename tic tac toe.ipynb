{
 "metadata": {
  "language_info": {
   "codemirror_mode": {
    "name": "ipython",
    "version": 3
   },
   "file_extension": ".py",
   "mimetype": "text/x-python",
   "name": "python",
   "nbconvert_exporter": "python",
   "pygments_lexer": "ipython3",
   "version": "3.8.5-final"
  },
  "orig_nbformat": 2,
  "kernelspec": {
   "name": "python3",
   "display_name": "Python 3",
   "language": "python"
  }
 },
 "nbformat": 4,
 "nbformat_minor": 2,
 "cells": [
  {
   "source": [
    "Tic Tac Toe"
   ],
   "cell_type": "markdown",
   "metadata": {}
  },
  {
   "cell_type": "code",
   "execution_count": 54,
   "metadata": {},
   "outputs": [],
   "source": [
    "def MainHorizontal():\n",
    "    return '+-------' * 3 + '+'"
   ]
  },
  {
   "cell_type": "code",
   "execution_count": 55,
   "metadata": {},
   "outputs": [],
   "source": [
    "def SubHorizontal():\n",
    "    return '|       ' * 3 + '|'"
   ]
  },
  {
   "cell_type": "code",
   "execution_count": 56,
   "metadata": {},
   "outputs": [],
   "source": [
    "def Pieces(row):\n",
    "    return \"|   \" + str(row[0]) + \"   |   \" + str(row[1]) + \"   |   \" + str(row[2]) + \"   |\""
   ]
  },
  {
   "cell_type": "code",
   "execution_count": 57,
   "metadata": {},
   "outputs": [],
   "source": [
    "# the function accepts one parameter containing the board's current status\n",
    "# and prints it out to the console\n",
    "def DisplayBoard(board):\n",
    "    for i in range(13):\n",
    "        if i % 4 == 0:\n",
    "            print(MainHorizontal())\n",
    "        elif i % 4 in (1,3):\n",
    "            print(SubHorizontal())\n",
    "        else:\n",
    "            print(Pieces([board[i//4][0], board[i//4][1], board[i//4][2]]))"
   ]
  },
  {
   "cell_type": "code",
   "execution_count": 58,
   "metadata": {},
   "outputs": [],
   "source": [
    "# the function accepts the board current status, asks the user about their move, \n",
    "# checks the input and updates the board according to the user's decision\n",
    "def EnterMove(board):\n",
    "    valid_move = False\n",
    "    prompt = \"Please enter your move: \"\n",
    "    while not valid_move:\n",
    "        user_move = int(input(prompt))\n",
    "        if user_move < 1 or user_move > 9:\n",
    "            prompt = \"Your move must be a number between 1 and 9: \"\n",
    "        else:\n",
    "            row = (user_move - 1) // 3\n",
    "            col = (user_move - 1) % 3\n",
    "            if (row, col) not in MakeListOfFreeFields(board):\n",
    "                prompt = \"That square is already taken.  Please enter a valid move: \"\n",
    "            else:\n",
    "                valid_move = True\n",
    "    board[row][col] = \"0\"\n",
    "    print(\"Your move: \")\n",
    "    DisplayBoard(board)"
   ]
  },
  {
   "cell_type": "code",
   "execution_count": 59,
   "metadata": {},
   "outputs": [],
   "source": [
    "# the function browses the board and builds a list of all the free squares; \n",
    "# the list consists of tuples, while each tuple is a pair of row and column numbers\n",
    "def MakeListOfFreeFields(board):\n",
    "    free_fields = []\n",
    "    row_no = 0\n",
    "    for row in board:\n",
    "        for col_no in range(len(row)):\n",
    "            if board[row_no][col_no] not in (\"X\",\"0\"):\n",
    "                free_fields.append((row_no, col_no))\n",
    "        row_no += 1\n",
    "    return free_fields"
   ]
  },
  {
   "cell_type": "code",
   "execution_count": 60,
   "metadata": {},
   "outputs": [],
   "source": [
    "# the function analyzes the board status in order to check if \n",
    "# the player using 'O's or 'X's has won the game\n",
    "def VictoryFor(board, sign):\n",
    "    # check rows\n",
    "    for i in range(3):\n",
    "        if board[i][0] == sign and board[i][1] == sign and board[i][2] == sign:\n",
    "            return True\n",
    "\n",
    "    # check columns\n",
    "    for i in range(3):\n",
    "        if board[0][i] == sign and board[1][i] == sign and board[2][i] == sign:\n",
    "            return True\n",
    "\n",
    "    # check diagonals\n",
    "    if board[1][1] == sign:\n",
    "        if board[0][0] == sign and board[2][2] == sign:\n",
    "            return True\n",
    "        if board[2][0] == sign and board[0][2] == sign:\n",
    "            return True\n",
    "\n",
    "    # no matches\n",
    "    return False"
   ]
  },
  {
   "cell_type": "code",
   "execution_count": 61,
   "metadata": {},
   "outputs": [],
   "source": [
    "# the function draws the computer's move and updates the board\n",
    "def DrawMove(board):\n",
    "    poss_moves = MakeListOfFreeFields(board)\n",
    "    from random import randrange\n",
    "    my_move = randrange(len(poss_moves)+1)\n",
    "    my_cell = poss_moves[my_move-1]\n",
    "    board[my_cell[0]][my_cell[1]] = \"X\"\n",
    "    print(\"My move: \")\n",
    "    DisplayBoard(board)"
   ]
  },
  {
   "cell_type": "code",
   "execution_count": 62,
   "metadata": {},
   "outputs": [
    {
     "output_type": "stream",
     "name": "stdout",
     "text": [
      "+-------+-------+-------+\n|       |       |       |\n|   1   |   2   |   3   |\n|       |       |       |\n+-------+-------+-------+\n|       |       |       |\n|   4   |   X   |   6   |\n|       |       |       |\n+-------+-------+-------+\n|       |       |       |\n|   7   |   8   |   9   |\n|       |       |       |\n+-------+-------+-------+\n"
     ]
    }
   ],
   "source": [
    "# Populate a blank board\n",
    "board = []\n",
    "for i in range(3):\n",
    "    row = [((i * 3) + col + 1) for col in range(3)]\n",
    "    board.append( row )\n",
    "# The first move is always the middle of the second row\n",
    "board[1][1]=\"X\"\n",
    "# display the board\n",
    "DisplayBoard(board)"
   ]
  },
  {
   "cell_type": "code",
   "execution_count": 63,
   "metadata": {},
   "outputs": [
    {
     "output_type": "stream",
     "name": "stdout",
     "text": [
      "Your move: \n",
      "+-------+-------+-------+\n",
      "|       |       |       |\n",
      "|   0   |   2   |   3   |\n",
      "|       |       |       |\n",
      "+-------+-------+-------+\n",
      "|       |       |       |\n",
      "|   4   |   X   |   6   |\n",
      "|       |       |       |\n",
      "+-------+-------+-------+\n",
      "|       |       |       |\n",
      "|   7   |   8   |   9   |\n",
      "|       |       |       |\n",
      "+-------+-------+-------+\n",
      "My move: \n",
      "+-------+-------+-------+\n",
      "|       |       |       |\n",
      "|   0   |   2   |   3   |\n",
      "|       |       |       |\n",
      "+-------+-------+-------+\n",
      "|       |       |       |\n",
      "|   4   |   X   |   X   |\n",
      "|       |       |       |\n",
      "+-------+-------+-------+\n",
      "|       |       |       |\n",
      "|   7   |   8   |   9   |\n",
      "|       |       |       |\n",
      "+-------+-------+-------+\n",
      "Your move: \n",
      "+-------+-------+-------+\n",
      "|       |       |       |\n",
      "|   0   |   2   |   3   |\n",
      "|       |       |       |\n",
      "+-------+-------+-------+\n",
      "|       |       |       |\n",
      "|   0   |   X   |   X   |\n",
      "|       |       |       |\n",
      "+-------+-------+-------+\n",
      "|       |       |       |\n",
      "|   7   |   8   |   9   |\n",
      "|       |       |       |\n",
      "+-------+-------+-------+\n",
      "My move: \n",
      "+-------+-------+-------+\n",
      "|       |       |       |\n",
      "|   0   |   2   |   3   |\n",
      "|       |       |       |\n",
      "+-------+-------+-------+\n",
      "|       |       |       |\n",
      "|   0   |   X   |   X   |\n",
      "|       |       |       |\n",
      "+-------+-------+-------+\n",
      "|       |       |       |\n",
      "|   7   |   8   |   X   |\n",
      "|       |       |       |\n",
      "+-------+-------+-------+\n",
      "Your move: \n",
      "+-------+-------+-------+\n",
      "|       |       |       |\n",
      "|   0   |   2   |   3   |\n",
      "|       |       |       |\n",
      "+-------+-------+-------+\n",
      "|       |       |       |\n",
      "|   0   |   X   |   X   |\n",
      "|       |       |       |\n",
      "+-------+-------+-------+\n",
      "|       |       |       |\n",
      "|   0   |   8   |   X   |\n",
      "|       |       |       |\n",
      "+-------+-------+-------+\n",
      "Victory for you!\n"
     ]
    }
   ],
   "source": [
    "# play the game\n",
    "continue_playing = True\n",
    "end_result = \"A draw!\"\n",
    "while continue_playing:\n",
    "    # User's move\n",
    "    EnterMove(board)\n",
    "    if VictoryFor(board, \"0\"):\n",
    "        end_result = \"Victory for you!\"\n",
    "        continue_playing = False\n",
    "    # User hasn't won, so do computer's move\n",
    "    else:\n",
    "        DrawMove(board)\n",
    "        if VictoryFor(board, \"X\"):\n",
    "            end_result = \"Victory for me!\"\n",
    "            continue_playing = False\n",
    "        # computer hasn't won either, so check there are free fields remaining\n",
    "        elif len(MakeListOfFreeFields(board)) == 0:\n",
    "            continue_playing = False\n",
    "print(end_result)"
   ]
  },
  {
   "cell_type": "code",
   "execution_count": null,
   "metadata": {},
   "outputs": [],
   "source": []
  },
  {
   "cell_type": "code",
   "execution_count": null,
   "metadata": {},
   "outputs": [],
   "source": []
  }
 ]
}