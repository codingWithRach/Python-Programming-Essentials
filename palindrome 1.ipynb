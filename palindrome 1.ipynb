{
 "metadata": {
  "language_info": {
   "codemirror_mode": {
    "name": "ipython",
    "version": 3
   },
   "file_extension": ".py",
   "mimetype": "text/x-python",
   "name": "python",
   "nbconvert_exporter": "python",
   "pygments_lexer": "ipython3",
   "version": "3.8.5-final"
  },
  "orig_nbformat": 2,
  "kernelspec": {
   "name": "python3",
   "display_name": "Python 3",
   "language": "python"
  }
 },
 "nbformat": 4,
 "nbformat_minor": 2,
 "cells": [
  {
   "source": [
    "Palindrome version 1"
   ],
   "cell_type": "markdown",
   "metadata": {}
  },
  {
   "cell_type": "code",
   "execution_count": 7,
   "metadata": {},
   "outputs": [],
   "source": [
    "def is_palindrome(user_word):\n",
    "    the_word = user_word.upper().replace( \" \", \"\" )\n",
    "    the_word = list(the_word)\n",
    "    i = 0\n",
    "    while i in range(len(the_word) // 2):\n",
    "        if the_word[i] != the_word[len(the_word) - i - 1]:\n",
    "            return \"'\" + user_word + \"' is not a palindrome\"\n",
    "        i += 1\n",
    "    return \"'\" + user_word + \"' is a palindrome\""
   ]
  },
  {
   "cell_type": "code",
   "execution_count": 8,
   "metadata": {},
   "outputs": [
    {
     "output_type": "stream",
     "name": "stdout",
     "text": [
      "'Mr owl ate my metal worm' is a palindrome\n"
     ]
    }
   ],
   "source": [
    "user_word = \"\"\n",
    "while (len(user_word)) == 0:\n",
    "    user_word = input(\"Please enter a word or phrase: \")\n",
    "print(is_palindrome(user_word))"
   ]
  },
  {
   "cell_type": "code",
   "execution_count": null,
   "metadata": {},
   "outputs": [],
   "source": []
  }
 ]
}