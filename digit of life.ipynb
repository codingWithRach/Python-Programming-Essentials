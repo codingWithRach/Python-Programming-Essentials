{
 "metadata": {
  "language_info": {
   "codemirror_mode": {
    "name": "ipython",
    "version": 3
   },
   "file_extension": ".py",
   "mimetype": "text/x-python",
   "name": "python",
   "nbconvert_exporter": "python",
   "pygments_lexer": "ipython3",
   "version": "3.8.5-final"
  },
  "orig_nbformat": 2,
  "kernelspec": {
   "name": "python3",
   "display_name": "Python 3",
   "language": "python"
  }
 },
 "nbformat": 4,
 "nbformat_minor": 2,
 "cells": [
  {
   "source": [
    "Digit of life"
   ],
   "cell_type": "markdown",
   "metadata": {}
  },
  {
   "cell_type": "code",
   "execution_count": 30,
   "metadata": {},
   "outputs": [],
   "source": [
    "def calc_digit(user_dob):\n",
    "    date_calc = list(map(int, list(user_dob)))\n",
    "    while len(date_calc) > 1:\n",
    "        digit_of_life = sum(date_calc)\n",
    "        date_calc = list(map(int, list(str(digit_of_life))))\n",
    "    return digit_of_life"
   ]
  },
  {
   "cell_type": "code",
   "execution_count": 33,
   "metadata": {
    "tags": []
   },
   "outputs": [
    {
     "output_type": "stream",
     "name": "stdout",
     "text": [
      "Your digit of life is 3\n"
     ]
    }
   ],
   "source": [
    "valid_format = False\n",
    "while not valid_format:\n",
    "    user_dob = input(\"Please enter your date of birth in the format ddmmyyyy: \")\n",
    "    if len(user_dob) != 8:\n",
    "        continue\n",
    "    if not user_dob.isdigit():\n",
    "        continue\n",
    "    valid_format = True\n",
    "print(\"Your digit of life is\", calc_digit(user_dob))"
   ]
  },
  {
   "cell_type": "code",
   "execution_count": null,
   "metadata": {},
   "outputs": [],
   "source": []
  }
 ]
}