{
 "metadata": {
  "language_info": {
   "codemirror_mode": {
    "name": "ipython",
    "version": 3
   },
   "file_extension": ".py",
   "mimetype": "text/x-python",
   "name": "python",
   "nbconvert_exporter": "python",
   "pygments_lexer": "ipython3",
   "version": "3.8.5-final"
  },
  "orig_nbformat": 2,
  "kernelspec": {
   "name": "python3",
   "display_name": "Python 3",
   "language": "python"
  }
 },
 "nbformat": 4,
 "nbformat_minor": 2,
 "cells": [
  {
   "source": [
    "Anagram"
   ],
   "cell_type": "markdown",
   "metadata": {}
  },
  {
   "cell_type": "code",
   "execution_count": 3,
   "metadata": {},
   "outputs": [],
   "source": [
    "def process_phrase(phrase):\n",
    "    phrase = phrase.upper().replace(\" \",\"\")\n",
    "    phrase = list(phrase).sort()\n",
    "    return phrase"
   ]
  },
  {
   "cell_type": "code",
   "execution_count": 4,
   "metadata": {},
   "outputs": [
    {
     "output_type": "stream",
     "name": "stdout",
     "text": [
      "'Dormitory' is an anagram of 'Dirty room'\n"
     ]
    }
   ],
   "source": [
    "user_one = input(\"Please enter the first word or phrase: \")\n",
    "user_two = input(\"Please enter the second word or phrase: \")\n",
    "\n",
    "if process_phrase(user_one) == process_phrase(user_two):\n",
    "    print(\"'\" + user_one + \"' is an anagram of '\" + user_two + \"'\")\n",
    "else:\n",
    "    print(\"'\" + user_one + \"' is not an anagram of '\" + user_two + \"'\")\n",
    "\n"
   ]
  },
  {
   "cell_type": "code",
   "execution_count": null,
   "metadata": {},
   "outputs": [],
   "source": []
  }
 ]
}