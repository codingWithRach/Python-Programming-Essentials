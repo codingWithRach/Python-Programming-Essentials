{
 "metadata": {
  "language_info": {
   "codemirror_mode": {
    "name": "ipython",
    "version": 3
   },
   "file_extension": ".py",
   "mimetype": "text/x-python",
   "name": "python",
   "nbconvert_exporter": "python",
   "pygments_lexer": "ipython3",
   "version": "3.8.5-final"
  },
  "orig_nbformat": 2,
  "kernelspec": {
   "name": "python3",
   "display_name": "Python 3",
   "language": "python"
  }
 },
 "nbformat": 4,
 "nbformat_minor": 2,
 "cells": [
  {
   "source": [
    "Palindrome version 2"
   ],
   "cell_type": "markdown",
   "metadata": {}
  },
  {
   "cell_type": "code",
   "execution_count": 1,
   "metadata": {},
   "outputs": [],
   "source": [
    "def is_palindrome(user_word):\n",
    "    the_word = user_word.upper().replace( \" \", \"\" )\n",
    "    for char in the_word:\n",
    "        if the_word.find(char) != len(the_word) - the_word.rfind(char) - 1:\n",
    "            return \"'\" + user_word + \"' is not a palindrome\"\n",
    "    return \"'\" + user_word + \"' is a palindrome\""
   ]
  },
  {
   "cell_type": "code",
   "execution_count": 4,
   "metadata": {},
   "outputs": [
    {
     "output_type": "stream",
     "name": "stdout",
     "text": [
      "'Mr owl ate my metal worm' is a palindrome\n"
     ]
    }
   ],
   "source": [
    "user_word = \"\"\n",
    "while (len(user_word)) == 0:\n",
    "    user_word = input(\"Please enter a word or phrase: \")\n",
    "print(is_palindrome(user_word))"
   ]
  },
  {
   "cell_type": "code",
   "execution_count": null,
   "metadata": {},
   "outputs": [],
   "source": []
  }
 ]
}